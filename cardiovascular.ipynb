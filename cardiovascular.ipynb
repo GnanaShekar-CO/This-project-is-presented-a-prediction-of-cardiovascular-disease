{
 "cells": [
  {
   "cell_type": "code",
   "execution_count": 1,
   "metadata": {},
   "outputs": [],
   "source": [
    "import numpy as np\n",
    "import pandas as pd\n",
    "import seaborn as sns"
   ]
  },
  {
   "cell_type": "code",
   "execution_count": 2,
   "metadata": {},
   "outputs": [
    {
     "data": {
      "text/html": [
       "<div>\n",
       "<style scoped>\n",
       "    .dataframe tbody tr th:only-of-type {\n",
       "        vertical-align: middle;\n",
       "    }\n",
       "\n",
       "    .dataframe tbody tr th {\n",
       "        vertical-align: top;\n",
       "    }\n",
       "\n",
       "    .dataframe thead th {\n",
       "        text-align: right;\n",
       "    }\n",
       "</style>\n",
       "<table border=\"1\" class=\"dataframe\">\n",
       "  <thead>\n",
       "    <tr style=\"text-align: right;\">\n",
       "      <th></th>\n",
       "      <th>id</th>\n",
       "      <th>age</th>\n",
       "      <th>gender</th>\n",
       "      <th>height</th>\n",
       "      <th>weight</th>\n",
       "      <th>ap_hi</th>\n",
       "      <th>ap_lo</th>\n",
       "      <th>cholesterol</th>\n",
       "      <th>gluc</th>\n",
       "      <th>smoke</th>\n",
       "      <th>alco</th>\n",
       "      <th>active</th>\n",
       "      <th>cardio</th>\n",
       "    </tr>\n",
       "  </thead>\n",
       "  <tbody>\n",
       "    <tr>\n",
       "      <th>0</th>\n",
       "      <td>988</td>\n",
       "      <td>22469</td>\n",
       "      <td>1</td>\n",
       "      <td>155</td>\n",
       "      <td>69.0</td>\n",
       "      <td>130</td>\n",
       "      <td>80</td>\n",
       "      <td>2</td>\n",
       "      <td>2</td>\n",
       "      <td>0</td>\n",
       "      <td>0</td>\n",
       "      <td>1</td>\n",
       "      <td>0</td>\n",
       "    </tr>\n",
       "    <tr>\n",
       "      <th>1</th>\n",
       "      <td>989</td>\n",
       "      <td>14648</td>\n",
       "      <td>1</td>\n",
       "      <td>163</td>\n",
       "      <td>71.0</td>\n",
       "      <td>110</td>\n",
       "      <td>70</td>\n",
       "      <td>1</td>\n",
       "      <td>1</td>\n",
       "      <td>0</td>\n",
       "      <td>0</td>\n",
       "      <td>1</td>\n",
       "      <td>1</td>\n",
       "    </tr>\n",
       "    <tr>\n",
       "      <th>2</th>\n",
       "      <td>990</td>\n",
       "      <td>21901</td>\n",
       "      <td>1</td>\n",
       "      <td>165</td>\n",
       "      <td>70.0</td>\n",
       "      <td>120</td>\n",
       "      <td>80</td>\n",
       "      <td>1</td>\n",
       "      <td>1</td>\n",
       "      <td>0</td>\n",
       "      <td>0</td>\n",
       "      <td>1</td>\n",
       "      <td>0</td>\n",
       "    </tr>\n",
       "    <tr>\n",
       "      <th>3</th>\n",
       "      <td>991</td>\n",
       "      <td>14549</td>\n",
       "      <td>2</td>\n",
       "      <td>165</td>\n",
       "      <td>85.0</td>\n",
       "      <td>120</td>\n",
       "      <td>80</td>\n",
       "      <td>1</td>\n",
       "      <td>1</td>\n",
       "      <td>1</td>\n",
       "      <td>1</td>\n",
       "      <td>1</td>\n",
       "      <td>0</td>\n",
       "    </tr>\n",
       "    <tr>\n",
       "      <th>4</th>\n",
       "      <td>992</td>\n",
       "      <td>23393</td>\n",
       "      <td>1</td>\n",
       "      <td>155</td>\n",
       "      <td>62.0</td>\n",
       "      <td>120</td>\n",
       "      <td>80</td>\n",
       "      <td>1</td>\n",
       "      <td>1</td>\n",
       "      <td>0</td>\n",
       "      <td>0</td>\n",
       "      <td>1</td>\n",
       "      <td>0</td>\n",
       "    </tr>\n",
       "  </tbody>\n",
       "</table>\n",
       "</div>"
      ],
      "text/plain": [
       "    id    age  gender  height  weight  ap_hi  ap_lo  cholesterol  gluc  smoke  \\\n",
       "0  988  22469       1     155    69.0    130     80            2     2      0   \n",
       "1  989  14648       1     163    71.0    110     70            1     1      0   \n",
       "2  990  21901       1     165    70.0    120     80            1     1      0   \n",
       "3  991  14549       2     165    85.0    120     80            1     1      1   \n",
       "4  992  23393       1     155    62.0    120     80            1     1      0   \n",
       "\n",
       "   alco  active  cardio  \n",
       "0     0       1       0  \n",
       "1     0       1       1  \n",
       "2     0       1       0  \n",
       "3     1       1       0  \n",
       "4     0       1       0  "
      ]
     },
     "execution_count": 2,
     "metadata": {},
     "output_type": "execute_result"
    }
   ],
   "source": [
    "df = pd.read_csv(\"cardio_train.csv\")\n",
    "df.head() "
   ]
  },
  {
   "cell_type": "code",
   "execution_count": 3,
   "metadata": {},
   "outputs": [
    {
     "data": {
      "text/plain": [
       "(69301, 13)"
      ]
     },
     "execution_count": 3,
     "metadata": {},
     "output_type": "execute_result"
    }
   ],
   "source": [
    "df.shape"
   ]
  },
  {
   "cell_type": "code",
   "execution_count": 4,
   "metadata": {},
   "outputs": [
    {
     "data": {
      "text/plain": [
       "id             0\n",
       "age            0\n",
       "gender         0\n",
       "height         0\n",
       "weight         0\n",
       "ap_hi          0\n",
       "ap_lo          0\n",
       "cholesterol    0\n",
       "gluc           0\n",
       "smoke          0\n",
       "alco           0\n",
       "active         0\n",
       "cardio         0\n",
       "dtype: int64"
      ]
     },
     "execution_count": 4,
     "metadata": {},
     "output_type": "execute_result"
    }
   ],
   "source": [
    "df.isna().sum()"
   ]
  },
  {
   "cell_type": "code",
   "execution_count": 5,
   "metadata": {},
   "outputs": [
    {
     "data": {
      "text/plain": [
       "False"
      ]
     },
     "execution_count": 5,
     "metadata": {},
     "output_type": "execute_result"
    }
   ],
   "source": [
    "df.isnull().values.any()"
   ]
  },
  {
   "cell_type": "code",
   "execution_count": 6,
   "metadata": {},
   "outputs": [
    {
     "data": {
      "text/html": [
       "<div>\n",
       "<style scoped>\n",
       "    .dataframe tbody tr th:only-of-type {\n",
       "        vertical-align: middle;\n",
       "    }\n",
       "\n",
       "    .dataframe tbody tr th {\n",
       "        vertical-align: top;\n",
       "    }\n",
       "\n",
       "    .dataframe thead th {\n",
       "        text-align: right;\n",
       "    }\n",
       "</style>\n",
       "<table border=\"1\" class=\"dataframe\">\n",
       "  <thead>\n",
       "    <tr style=\"text-align: right;\">\n",
       "      <th></th>\n",
       "      <th>id</th>\n",
       "      <th>age</th>\n",
       "      <th>gender</th>\n",
       "      <th>height</th>\n",
       "      <th>weight</th>\n",
       "      <th>ap_hi</th>\n",
       "      <th>ap_lo</th>\n",
       "      <th>cholesterol</th>\n",
       "      <th>gluc</th>\n",
       "      <th>smoke</th>\n",
       "      <th>alco</th>\n",
       "      <th>active</th>\n",
       "      <th>cardio</th>\n",
       "    </tr>\n",
       "  </thead>\n",
       "  <tbody>\n",
       "    <tr>\n",
       "      <th>count</th>\n",
       "      <td>69301.000000</td>\n",
       "      <td>69301.000000</td>\n",
       "      <td>69301.000000</td>\n",
       "      <td>69301.000000</td>\n",
       "      <td>69301.000000</td>\n",
       "      <td>69301.000000</td>\n",
       "      <td>69301.000000</td>\n",
       "      <td>69301.000000</td>\n",
       "      <td>69301.000000</td>\n",
       "      <td>69301.000000</td>\n",
       "      <td>69301.000000</td>\n",
       "      <td>69301.000000</td>\n",
       "      <td>69301.000000</td>\n",
       "    </tr>\n",
       "    <tr>\n",
       "      <th>mean</th>\n",
       "      <td>50471.480397</td>\n",
       "      <td>19468.786280</td>\n",
       "      <td>1.349519</td>\n",
       "      <td>164.362217</td>\n",
       "      <td>74.203027</td>\n",
       "      <td>128.829584</td>\n",
       "      <td>96.650092</td>\n",
       "      <td>1.366806</td>\n",
       "      <td>1.226447</td>\n",
       "      <td>0.088051</td>\n",
       "      <td>0.053881</td>\n",
       "      <td>0.803986</td>\n",
       "      <td>0.499589</td>\n",
       "    </tr>\n",
       "    <tr>\n",
       "      <th>std</th>\n",
       "      <td>28563.100347</td>\n",
       "      <td>2467.261818</td>\n",
       "      <td>0.476821</td>\n",
       "      <td>8.205337</td>\n",
       "      <td>14.383469</td>\n",
       "      <td>154.775805</td>\n",
       "      <td>189.096240</td>\n",
       "      <td>0.680270</td>\n",
       "      <td>0.572246</td>\n",
       "      <td>0.283371</td>\n",
       "      <td>0.225784</td>\n",
       "      <td>0.396982</td>\n",
       "      <td>0.500003</td>\n",
       "    </tr>\n",
       "    <tr>\n",
       "      <th>min</th>\n",
       "      <td>988.000000</td>\n",
       "      <td>10798.000000</td>\n",
       "      <td>1.000000</td>\n",
       "      <td>55.000000</td>\n",
       "      <td>10.000000</td>\n",
       "      <td>-150.000000</td>\n",
       "      <td>-70.000000</td>\n",
       "      <td>1.000000</td>\n",
       "      <td>1.000000</td>\n",
       "      <td>0.000000</td>\n",
       "      <td>0.000000</td>\n",
       "      <td>0.000000</td>\n",
       "      <td>0.000000</td>\n",
       "    </tr>\n",
       "    <tr>\n",
       "      <th>25%</th>\n",
       "      <td>25745.000000</td>\n",
       "      <td>17664.000000</td>\n",
       "      <td>1.000000</td>\n",
       "      <td>159.000000</td>\n",
       "      <td>65.000000</td>\n",
       "      <td>120.000000</td>\n",
       "      <td>80.000000</td>\n",
       "      <td>1.000000</td>\n",
       "      <td>1.000000</td>\n",
       "      <td>0.000000</td>\n",
       "      <td>0.000000</td>\n",
       "      <td>1.000000</td>\n",
       "      <td>0.000000</td>\n",
       "    </tr>\n",
       "    <tr>\n",
       "      <th>50%</th>\n",
       "      <td>50494.000000</td>\n",
       "      <td>19704.000000</td>\n",
       "      <td>1.000000</td>\n",
       "      <td>165.000000</td>\n",
       "      <td>72.000000</td>\n",
       "      <td>120.000000</td>\n",
       "      <td>80.000000</td>\n",
       "      <td>1.000000</td>\n",
       "      <td>1.000000</td>\n",
       "      <td>0.000000</td>\n",
       "      <td>0.000000</td>\n",
       "      <td>1.000000</td>\n",
       "      <td>0.000000</td>\n",
       "    </tr>\n",
       "    <tr>\n",
       "      <th>75%</th>\n",
       "      <td>75150.000000</td>\n",
       "      <td>21326.000000</td>\n",
       "      <td>2.000000</td>\n",
       "      <td>170.000000</td>\n",
       "      <td>82.000000</td>\n",
       "      <td>140.000000</td>\n",
       "      <td>90.000000</td>\n",
       "      <td>2.000000</td>\n",
       "      <td>1.000000</td>\n",
       "      <td>0.000000</td>\n",
       "      <td>0.000000</td>\n",
       "      <td>1.000000</td>\n",
       "      <td>1.000000</td>\n",
       "    </tr>\n",
       "    <tr>\n",
       "      <th>max</th>\n",
       "      <td>99999.000000</td>\n",
       "      <td>23713.000000</td>\n",
       "      <td>2.000000</td>\n",
       "      <td>250.000000</td>\n",
       "      <td>200.000000</td>\n",
       "      <td>16020.000000</td>\n",
       "      <td>11000.000000</td>\n",
       "      <td>3.000000</td>\n",
       "      <td>3.000000</td>\n",
       "      <td>1.000000</td>\n",
       "      <td>1.000000</td>\n",
       "      <td>1.000000</td>\n",
       "      <td>1.000000</td>\n",
       "    </tr>\n",
       "  </tbody>\n",
       "</table>\n",
       "</div>"
      ],
      "text/plain": [
       "                 id           age        gender        height        weight  \\\n",
       "count  69301.000000  69301.000000  69301.000000  69301.000000  69301.000000   \n",
       "mean   50471.480397  19468.786280      1.349519    164.362217     74.203027   \n",
       "std    28563.100347   2467.261818      0.476821      8.205337     14.383469   \n",
       "min      988.000000  10798.000000      1.000000     55.000000     10.000000   \n",
       "25%    25745.000000  17664.000000      1.000000    159.000000     65.000000   \n",
       "50%    50494.000000  19704.000000      1.000000    165.000000     72.000000   \n",
       "75%    75150.000000  21326.000000      2.000000    170.000000     82.000000   \n",
       "max    99999.000000  23713.000000      2.000000    250.000000    200.000000   \n",
       "\n",
       "              ap_hi         ap_lo   cholesterol          gluc         smoke  \\\n",
       "count  69301.000000  69301.000000  69301.000000  69301.000000  69301.000000   \n",
       "mean     128.829584     96.650092      1.366806      1.226447      0.088051   \n",
       "std      154.775805    189.096240      0.680270      0.572246      0.283371   \n",
       "min     -150.000000    -70.000000      1.000000      1.000000      0.000000   \n",
       "25%      120.000000     80.000000      1.000000      1.000000      0.000000   \n",
       "50%      120.000000     80.000000      1.000000      1.000000      0.000000   \n",
       "75%      140.000000     90.000000      2.000000      1.000000      0.000000   \n",
       "max    16020.000000  11000.000000      3.000000      3.000000      1.000000   \n",
       "\n",
       "               alco        active        cardio  \n",
       "count  69301.000000  69301.000000  69301.000000  \n",
       "mean       0.053881      0.803986      0.499589  \n",
       "std        0.225784      0.396982      0.500003  \n",
       "min        0.000000      0.000000      0.000000  \n",
       "25%        0.000000      1.000000      0.000000  \n",
       "50%        0.000000      1.000000      0.000000  \n",
       "75%        0.000000      1.000000      1.000000  \n",
       "max        1.000000      1.000000      1.000000  "
      ]
     },
     "execution_count": 6,
     "metadata": {},
     "output_type": "execute_result"
    }
   ],
   "source": [
    "df.describe()"
   ]
  },
  {
   "cell_type": "code",
   "execution_count": 7,
   "metadata": {},
   "outputs": [
    {
     "data": {
      "text/plain": [
       "0    34679\n",
       "1    34622\n",
       "Name: cardio, dtype: int64"
      ]
     },
     "execution_count": 7,
     "metadata": {},
     "output_type": "execute_result"
    }
   ],
   "source": [
    "df['cardio'].value_counts()"
   ]
  },
  {
   "cell_type": "code",
   "execution_count": 8,
   "metadata": {},
   "outputs": [
    {
     "name": "stderr",
     "output_type": "stream",
     "text": [
      "C:\\Users\\Gnana Shekar\\anaconda3\\lib\\site-packages\\seaborn\\_decorators.py:36: FutureWarning: Pass the following variable as a keyword arg: x. From version 0.12, the only valid positional argument will be `data`, and passing other arguments without an explicit keyword will result in an error or misinterpretation.\n",
      "  warnings.warn(\n"
     ]
    },
    {
     "data": {
      "text/plain": [
       "<AxesSubplot:xlabel='cardio', ylabel='count'>"
      ]
     },
     "execution_count": 8,
     "metadata": {},
     "output_type": "execute_result"
    },
    {
     "data": {
      "image/png": "[encoded data removed]",
      "text/plain": [
       "<Figure size 432x288 with 1 Axes>"
      ]
     },
     "metadata": {
      "needs_background": "light"
     },
     "output_type": "display_data"
    }
   ],
   "source": [
    "sns.countplot(df['cardio'])"
   ]
  },
  {
   "cell_type": "code",
   "execution_count": 9,
   "metadata": {},
   "outputs": [
    {
     "data": {
      "image/png": "[encoded data removed]",
      "text/plain": [
       "<Figure size 432x288 with 1 Axes>"
      ]
     },
     "metadata": {
      "needs_background": "light"
     },
     "output_type": "display_data"
    }
   ],
   "source": [
    "df['years'] = ( df['age'] / 365).round(0)   \n",
    "df[\"years\"] = pd.to_numeric(df[\"years\"],downcast='integer') \n",
    "\n",
    "sns.countplot(x='years', hue='cardio', data = df, palette=\"colorblind\", edgecolor=sns.color_palette(\"dark\", n_colors = 2));"
   ]
  },
  {
   "cell_type": "code",
   "execution_count": 10,
   "metadata": {},
   "outputs": [
    {
     "data": {
      "text/html": [
       "<div>\n",
       "<style scoped>\n",
       "    .dataframe tbody tr th:only-of-type {\n",
       "        vertical-align: middle;\n",
       "    }\n",
       "\n",
       "    .dataframe tbody tr th {\n",
       "        vertical-align: top;\n",
       "    }\n",
       "\n",
       "    .dataframe thead th {\n",
       "        text-align: right;\n",
       "    }\n",
       "</style>\n",
       "<table border=\"1\" class=\"dataframe\">\n",
       "  <thead>\n",
       "    <tr style=\"text-align: right;\">\n",
       "      <th></th>\n",
       "      <th>id</th>\n",
       "      <th>age</th>\n",
       "      <th>gender</th>\n",
       "      <th>height</th>\n",
       "      <th>weight</th>\n",
       "      <th>ap_hi</th>\n",
       "      <th>ap_lo</th>\n",
       "      <th>cholesterol</th>\n",
       "      <th>gluc</th>\n",
       "      <th>smoke</th>\n",
       "      <th>alco</th>\n",
       "      <th>active</th>\n",
       "      <th>cardio</th>\n",
       "      <th>years</th>\n",
       "    </tr>\n",
       "  </thead>\n",
       "  <tbody>\n",
       "    <tr>\n",
       "      <th>id</th>\n",
       "      <td>1.000000</td>\n",
       "      <td>0.003587</td>\n",
       "      <td>0.003773</td>\n",
       "      <td>-0.003735</td>\n",
       "      <td>-0.001549</td>\n",
       "      <td>0.003268</td>\n",
       "      <td>-0.002757</td>\n",
       "      <td>0.006400</td>\n",
       "      <td>0.002543</td>\n",
       "      <td>-0.003294</td>\n",
       "      <td>0.000384</td>\n",
       "      <td>0.002700</td>\n",
       "      <td>0.004269</td>\n",
       "      <td>0.003247</td>\n",
       "    </tr>\n",
       "    <tr>\n",
       "      <th>age</th>\n",
       "      <td>0.003587</td>\n",
       "      <td>1.000000</td>\n",
       "      <td>-0.023150</td>\n",
       "      <td>-0.081304</td>\n",
       "      <td>0.054409</td>\n",
       "      <td>0.020663</td>\n",
       "      <td>0.017717</td>\n",
       "      <td>0.154343</td>\n",
       "      <td>0.099095</td>\n",
       "      <td>-0.047680</td>\n",
       "      <td>-0.029435</td>\n",
       "      <td>-0.009926</td>\n",
       "      <td>0.238095</td>\n",
       "      <td>0.999089</td>\n",
       "    </tr>\n",
       "    <tr>\n",
       "      <th>gender</th>\n",
       "      <td>0.003773</td>\n",
       "      <td>-0.023150</td>\n",
       "      <td>1.000000</td>\n",
       "      <td>0.499373</td>\n",
       "      <td>0.155649</td>\n",
       "      <td>0.005980</td>\n",
       "      <td>0.015396</td>\n",
       "      <td>-0.036335</td>\n",
       "      <td>-0.021154</td>\n",
       "      <td>0.337608</td>\n",
       "      <td>0.171015</td>\n",
       "      <td>0.006241</td>\n",
       "      <td>0.008592</td>\n",
       "      <td>-0.023360</td>\n",
       "    </tr>\n",
       "    <tr>\n",
       "      <th>height</th>\n",
       "      <td>-0.003735</td>\n",
       "      <td>-0.081304</td>\n",
       "      <td>0.499373</td>\n",
       "      <td>1.000000</td>\n",
       "      <td>0.290333</td>\n",
       "      <td>0.005492</td>\n",
       "      <td>0.006215</td>\n",
       "      <td>-0.050632</td>\n",
       "      <td>-0.018929</td>\n",
       "      <td>0.187899</td>\n",
       "      <td>0.094164</td>\n",
       "      <td>-0.005974</td>\n",
       "      <td>-0.011015</td>\n",
       "      <td>-0.081233</td>\n",
       "    </tr>\n",
       "    <tr>\n",
       "      <th>weight</th>\n",
       "      <td>-0.001549</td>\n",
       "      <td>0.054409</td>\n",
       "      <td>0.155649</td>\n",
       "      <td>0.290333</td>\n",
       "      <td>1.000000</td>\n",
       "      <td>0.030665</td>\n",
       "      <td>0.043652</td>\n",
       "      <td>0.141901</td>\n",
       "      <td>0.107255</td>\n",
       "      <td>0.068304</td>\n",
       "      <td>0.067259</td>\n",
       "      <td>-0.016514</td>\n",
       "      <td>0.182094</td>\n",
       "      <td>0.054366</td>\n",
       "    </tr>\n",
       "    <tr>\n",
       "      <th>ap_hi</th>\n",
       "      <td>0.003268</td>\n",
       "      <td>0.020663</td>\n",
       "      <td>0.005980</td>\n",
       "      <td>0.005492</td>\n",
       "      <td>0.030665</td>\n",
       "      <td>1.000000</td>\n",
       "      <td>0.015919</td>\n",
       "      <td>0.023573</td>\n",
       "      <td>0.011821</td>\n",
       "      <td>-0.000933</td>\n",
       "      <td>0.001385</td>\n",
       "      <td>0.000032</td>\n",
       "      <td>0.054211</td>\n",
       "      <td>0.020691</td>\n",
       "    </tr>\n",
       "    <tr>\n",
       "      <th>ap_lo</th>\n",
       "      <td>-0.002757</td>\n",
       "      <td>0.017717</td>\n",
       "      <td>0.015396</td>\n",
       "      <td>0.006215</td>\n",
       "      <td>0.043652</td>\n",
       "      <td>0.015919</td>\n",
       "      <td>1.000000</td>\n",
       "      <td>0.024023</td>\n",
       "      <td>0.010895</td>\n",
       "      <td>0.004948</td>\n",
       "      <td>0.010764</td>\n",
       "      <td>0.004962</td>\n",
       "      <td>0.065290</td>\n",
       "      <td>0.017823</td>\n",
       "    </tr>\n",
       "    <tr>\n",
       "      <th>cholesterol</th>\n",
       "      <td>0.006400</td>\n",
       "      <td>0.154343</td>\n",
       "      <td>-0.036335</td>\n",
       "      <td>-0.050632</td>\n",
       "      <td>0.141901</td>\n",
       "      <td>0.023573</td>\n",
       "      <td>0.024023</td>\n",
       "      <td>1.000000</td>\n",
       "      <td>0.451741</td>\n",
       "      <td>0.010237</td>\n",
       "      <td>0.036015</td>\n",
       "      <td>0.009708</td>\n",
       "      <td>0.220752</td>\n",
       "      <td>0.154297</td>\n",
       "    </tr>\n",
       "    <tr>\n",
       "      <th>gluc</th>\n",
       "      <td>0.002543</td>\n",
       "      <td>0.099095</td>\n",
       "      <td>-0.021154</td>\n",
       "      <td>-0.018929</td>\n",
       "      <td>0.107255</td>\n",
       "      <td>0.011821</td>\n",
       "      <td>0.010895</td>\n",
       "      <td>0.451741</td>\n",
       "      <td>1.000000</td>\n",
       "      <td>-0.004608</td>\n",
       "      <td>0.011442</td>\n",
       "      <td>-0.007301</td>\n",
       "      <td>0.089062</td>\n",
       "      <td>0.098985</td>\n",
       "    </tr>\n",
       "    <tr>\n",
       "      <th>smoke</th>\n",
       "      <td>-0.003294</td>\n",
       "      <td>-0.047680</td>\n",
       "      <td>0.337608</td>\n",
       "      <td>0.187899</td>\n",
       "      <td>0.068304</td>\n",
       "      <td>-0.000933</td>\n",
       "      <td>0.004948</td>\n",
       "      <td>0.010237</td>\n",
       "      <td>-0.004608</td>\n",
       "      <td>1.000000</td>\n",
       "      <td>0.339709</td>\n",
       "      <td>0.025794</td>\n",
       "      <td>-0.015225</td>\n",
       "      <td>-0.047936</td>\n",
       "    </tr>\n",
       "    <tr>\n",
       "      <th>alco</th>\n",
       "      <td>0.000384</td>\n",
       "      <td>-0.029435</td>\n",
       "      <td>0.171015</td>\n",
       "      <td>0.094164</td>\n",
       "      <td>0.067259</td>\n",
       "      <td>0.001385</td>\n",
       "      <td>0.010764</td>\n",
       "      <td>0.036015</td>\n",
       "      <td>0.011442</td>\n",
       "      <td>0.339709</td>\n",
       "      <td>1.000000</td>\n",
       "      <td>0.025745</td>\n",
       "      <td>-0.007217</td>\n",
       "      <td>-0.029660</td>\n",
       "    </tr>\n",
       "    <tr>\n",
       "      <th>active</th>\n",
       "      <td>0.002700</td>\n",
       "      <td>-0.009926</td>\n",
       "      <td>0.006241</td>\n",
       "      <td>-0.005974</td>\n",
       "      <td>-0.016514</td>\n",
       "      <td>0.000032</td>\n",
       "      <td>0.004962</td>\n",
       "      <td>0.009708</td>\n",
       "      <td>-0.007301</td>\n",
       "      <td>0.025794</td>\n",
       "      <td>0.025745</td>\n",
       "      <td>1.000000</td>\n",
       "      <td>-0.035592</td>\n",
       "      <td>-0.009801</td>\n",
       "    </tr>\n",
       "    <tr>\n",
       "      <th>cardio</th>\n",
       "      <td>0.004269</td>\n",
       "      <td>0.238095</td>\n",
       "      <td>0.008592</td>\n",
       "      <td>-0.011015</td>\n",
       "      <td>0.182094</td>\n",
       "      <td>0.054211</td>\n",
       "      <td>0.065290</td>\n",
       "      <td>0.220752</td>\n",
       "      <td>0.089062</td>\n",
       "      <td>-0.015225</td>\n",
       "      <td>-0.007217</td>\n",
       "      <td>-0.035592</td>\n",
       "      <td>1.000000</td>\n",
       "      <td>0.237709</td>\n",
       "    </tr>\n",
       "    <tr>\n",
       "      <th>years</th>\n",
       "      <td>0.003247</td>\n",
       "      <td>0.999089</td>\n",
       "      <td>-0.023360</td>\n",
       "      <td>-0.081233</td>\n",
       "      <td>0.054366</td>\n",
       "      <td>0.020691</td>\n",
       "      <td>0.017823</td>\n",
       "      <td>0.154297</td>\n",
       "      <td>0.098985</td>\n",
       "      <td>-0.047936</td>\n",
       "      <td>-0.029660</td>\n",
       "      <td>-0.009801</td>\n",
       "      <td>0.237709</td>\n",
       "      <td>1.000000</td>\n",
       "    </tr>\n",
       "  </tbody>\n",
       "</table>\n",
       "</div>"
      ],
      "text/plain": [
       "                   id       age    gender    height    weight     ap_hi  \\\n",
       "id           1.000000  0.003587  0.003773 -0.003735 -0.001549  0.003268   \n",
       "age          0.003587  1.000000 -0.023150 -0.081304  0.054409  0.020663   \n",
       "gender       0.003773 -0.023150  1.000000  0.499373  0.155649  0.005980   \n",
       "height      -0.003735 -0.081304  0.499373  1.000000  0.290333  0.005492   \n",
       "weight      -0.001549  0.054409  0.155649  0.290333  1.000000  0.030665   \n",
       "ap_hi        0.003268  0.020663  0.005980  0.005492  0.030665  1.000000   \n",
       "ap_lo       -0.002757  0.017717  0.015396  0.006215  0.043652  0.015919   \n",
       "cholesterol  0.006400  0.154343 -0.036335 -0.050632  0.141901  0.023573   \n",
       "gluc         0.002543  0.099095 -0.021154 -0.018929  0.107255  0.011821   \n",
       "smoke       -0.003294 -0.047680  0.337608  0.187899  0.068304 -0.000933   \n",
       "alco         0.000384 -0.029435  0.171015  0.094164  0.067259  0.001385   \n",
       "active       0.002700 -0.009926  0.006241 -0.005974 -0.016514  0.000032   \n",
       "cardio       0.004269  0.238095  0.008592 -0.011015  0.182094  0.054211   \n",
       "years        0.003247  0.999089 -0.023360 -0.081233  0.054366  0.020691   \n",
       "\n",
       "                ap_lo  cholesterol      gluc     smoke      alco    active  \\\n",
       "id          -0.002757     0.006400  0.002543 -0.003294  0.000384  0.002700   \n",
       "age          0.017717     0.154343  0.099095 -0.047680 -0.029435 -0.009926   \n",
       "gender       0.015396    -0.036335 -0.021154  0.337608  0.171015  0.006241   \n",
       "height       0.006215    -0.050632 -0.018929  0.187899  0.094164 -0.005974   \n",
       "weight       0.043652     0.141901  0.107255  0.068304  0.067259 -0.016514   \n",
       "ap_hi        0.015919     0.023573  0.011821 -0.000933  0.001385  0.000032   \n",
       "ap_lo        1.000000     0.024023  0.010895  0.004948  0.010764  0.004962   \n",
       "cholesterol  0.024023     1.000000  0.451741  0.010237  0.036015  0.009708   \n",
       "gluc         0.010895     0.451741  1.000000 -0.004608  0.011442 -0.007301   \n",
       "smoke        0.004948     0.010237 -0.004608  1.000000  0.339709  0.025794   \n",
       "alco         0.010764     0.036015  0.011442  0.339709  1.000000  0.025745   \n",
       "active       0.004962     0.009708 -0.007301  0.025794  0.025745  1.000000   \n",
       "cardio       0.065290     0.220752  0.089062 -0.015225 -0.007217 -0.035592   \n",
       "years        0.017823     0.154297  0.098985 -0.047936 -0.029660 -0.009801   \n",
       "\n",
       "               cardio     years  \n",
       "id           0.004269  0.003247  \n",
       "age          0.238095  0.999089  \n",
       "gender       0.008592 -0.023360  \n",
       "height      -0.011015 -0.081233  \n",
       "weight       0.182094  0.054366  \n",
       "ap_hi        0.054211  0.020691  \n",
       "ap_lo        0.065290  0.017823  \n",
       "cholesterol  0.220752  0.154297  \n",
       "gluc         0.089062  0.098985  \n",
       "smoke       -0.015225 -0.047936  \n",
       "alco        -0.007217 -0.029660  \n",
       "active      -0.035592 -0.009801  \n",
       "cardio       1.000000  0.237709  \n",
       "years        0.237709  1.000000  "
      ]
     },
     "execution_count": 10,
     "metadata": {},
     "output_type": "execute_result"
    }
   ],
   "source": [
    "df.corr()"
   ]
  },
  {
   "cell_type": "code",
   "execution_count": 11,
   "metadata": {},
   "outputs": [
    {
     "data": {
      "text/plain": [
       "<AxesSubplot:>"
      ]
     },
     "execution_count": 11,
     "metadata": {},
     "output_type": "execute_result"
    },
    {
     "data": {
      "image/png": "[encoded data removed]",
      "text/plain": [
       "<Figure size 504x504 with 2 Axes>"
      ]
     },
     "metadata": {
      "needs_background": "light"
     },
     "output_type": "display_data"
    }
   ],
   "source": [
    "import matplotlib.pyplot as plt\n",
    "plt.figure(figsize=(7,7))  \n",
    "sns.heatmap(df.corr(), annot=True, fmt='.0%')"
   ]
  },
  {
   "cell_type": "code",
   "execution_count": 12,
   "metadata": {},
   "outputs": [],
   "source": [
    "df = df.drop('years', axis=1)\n",
    "df = df.drop('id', axis=1)"
   ]
  },
  {
   "cell_type": "code",
   "execution_count": 13,
   "metadata": {},
   "outputs": [],
   "source": [
    "X = df.iloc[:, :-1].values\n",
    "Y = df.iloc[:, -1].values"
   ]
  },
  {
   "cell_type": "code",
   "execution_count": 14,
   "metadata": {},
   "outputs": [],
   "source": [
    "from sklearn.model_selection import train_test_split\n",
    "X_train, X_test, Y_train, Y_test = train_test_split(X, Y, test_size= 0.25, random_state = 1)"
   ]
  },
  {
   "cell_type": "code",
   "execution_count": 15,
   "metadata": {},
   "outputs": [],
   "source": [
    "from sklearn.preprocessing import StandardScaler\n",
    "sc = StandardScaler()\n",
    "X_train = sc.fit_transform(X_train)\n",
    "X_test = sc.transform(X_test)"
   ]
  },
  {
   "cell_type": "code",
   "execution_count": 16,
   "metadata": {},
   "outputs": [
    {
     "data": {
      "text/plain": [
       "RandomForestClassifier(criterion='entropy', n_estimators=10, random_state=1)"
      ]
     },
     "execution_count": 16,
     "metadata": {},
     "output_type": "execute_result"
    }
   ],
   "source": [
    "from sklearn.ensemble import RandomForestClassifier\n",
    "forest = RandomForestClassifier(n_estimators = 10, criterion = 'entropy', random_state = 1)\n",
    "forest.fit(X_train, Y_train)"
   ]
  },
  {
   "cell_type": "code",
   "execution_count": 17,
   "metadata": {},
   "outputs": [
    {
     "data": {
      "text/plain": [
       "0.9791822991822992"
      ]
     },
     "execution_count": 17,
     "metadata": {},
     "output_type": "execute_result"
    }
   ],
   "source": [
    "model = forest\n",
    "model.score(X_train, Y_train)"
   ]
  },
  {
   "cell_type": "code",
   "execution_count": 18,
   "metadata": {},
   "outputs": [
    {
     "name": "stdout",
     "output_type": "stream",
     "text": [
      "[[6440 2244]\n",
      " [2976 5666]]\n",
      "Model Test Accuracy = 0.6987186886759783\n"
     ]
    }
   ],
   "source": [
    "from sklearn.metrics import confusion_matrix\n",
    "cm = confusion_matrix(Y_test, model.predict(X_test))\n",
    "TN = cm[0][0]\n",
    "TP = cm[1][1]\n",
    "FN = cm[1][0]\n",
    "FP = cm[0][1]\n",
    "\n",
    "print(cm)\n",
    "\n",
    "print('Model Test Accuracy = {}'. format( (TP + TN)/ (TP +TN + FN + FP)  ) )"
   ]
  },
  {
   "cell_type": "code",
   "execution_count": null,
   "metadata": {},
   "outputs": [],
   "source": []
  }
 ],
 "metadata": {
  "kernelspec": {
   "display_name": "Python 3",
   "language": "python",
   "name": "python3"
  },
  "language_info": {
   "codemirror_mode": {
    "name": "ipython",
    "version": 3
   },
   "file_extension": ".py",
   "mimetype": "text/x-python",
   "name": "python",
   "nbconvert_exporter": "python",
   "pygments_lexer": "ipython3",
   "version": "3.8.5"
  }
 },
 "nbformat": 4,
 "nbformat_minor": 4
}
